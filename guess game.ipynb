{
 "cells": [
  {
   "cell_type": "code",
   "execution_count": 1,
   "id": "bd28da78",
   "metadata": {},
   "outputs": [],
   "source": [
    "import random"
   ]
  },
  {
   "cell_type": "code",
   "execution_count": 6,
   "id": "576da4fc",
   "metadata": {},
   "outputs": [
    {
     "name": "stdout",
     "output_type": "stream",
     "text": [
      "Enter any number5\n",
      "too low\n",
      "Enter any number10\n",
      "too high\n",
      "Enter any number8\n",
      "too high\n",
      "Enter any number7\n",
      "You guessed it right\n"
     ]
    }
   ],
   "source": [
    "n = random.randrange(1,10)\n",
    "guess = int(input(\"Enter any number\"))\n",
    "while n!= guess:\n",
    "  if guess<n :\n",
    "    print(\"too low\")\n",
    "    guess = int(input(\"Enter any number\"))\n",
    "  elif guess >n:\n",
    "    print(\"too high\")\n",
    "    guess = int(input(\"Enter any number\"))\n",
    "  else:\n",
    "   break\n",
    "print(\"You guessed it right\")\n"
   ]
  },
  {
   "cell_type": "code",
   "execution_count": 4,
   "id": "e4bac5cc",
   "metadata": {},
   "outputs": [
    {
     "name": "stdout",
     "output_type": "stream",
     "text": [
      "Enter any number8\n",
      "too high\n",
      "Enter any number-5\n",
      "too low\n",
      "Enter any number3\n",
      "too high\n",
      "Enter any number1\n",
      "too low\n",
      "Enter any number2\n",
      "You guessed it right\n"
     ]
    }
   ],
   "source": [
    "guess = int(input(\"Enter any number\"))\n",
    "while n!= guess:\n",
    "  if guess<n :\n",
    "    print(\"too low\")\n",
    "    guess = int(input(\"Enter any number\"))\n",
    "  elif guess >n:\n",
    "    print(\"too high\")\n",
    "    guess = int(input(\"Enter any number\"))\n",
    "  else:\n",
    "   break\n",
    "print(\"You guessed it right\")\n"
   ]
  },
  {
   "cell_type": "code",
   "execution_count": null,
   "id": "c850124d",
   "metadata": {},
   "outputs": [],
   "source": []
  }
 ],
 "metadata": {
  "kernelspec": {
   "display_name": "Python 3 (ipykernel)",
   "language": "python",
   "name": "python3"
  },
  "language_info": {
   "codemirror_mode": {
    "name": "ipython",
    "version": 3
   },
   "file_extension": ".py",
   "mimetype": "text/x-python",
   "name": "python",
   "nbconvert_exporter": "python",
   "pygments_lexer": "ipython3",
   "version": "3.10.9"
  }
 },
 "nbformat": 4,
 "nbformat_minor": 5
}
